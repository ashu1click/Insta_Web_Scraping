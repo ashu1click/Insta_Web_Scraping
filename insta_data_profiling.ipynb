{
 "cells": [
  {
   "cell_type": "markdown",
   "id": "0fd1ee50",
   "metadata": {},
   "source": [
    "# Processsing the data once data is extracted from the instagram for #keto"
   ]
  },
  {
   "cell_type": "code",
   "execution_count": 1,
   "id": "0cdab475",
   "metadata": {},
   "outputs": [],
   "source": [
    "from datetime import datetime\n",
    "import pandas as pd\n",
    "import json\n",
    "import os\n",
    "import warnings\n",
    "warnings.filterwarnings('ignore')"
   ]
  },
  {
   "cell_type": "code",
   "execution_count": 2,
   "id": "73be582c",
   "metadata": {},
   "outputs": [],
   "source": [
    "location = f\"{os.getcwd()}\"\n",
    "configuration = {  config.split(\"=\")[0]:config.split(\"=\")[1] for config in open(f\"{location}/config.txt\").read().split('\\n')}\n",
    "HASHTAG = configuration['hashtag']"
   ]
  },
  {
   "cell_type": "code",
   "execution_count": 3,
   "id": "9bd734fb",
   "metadata": {},
   "outputs": [],
   "source": [
    "file_location = f\"{os.getcwd()}/#{HASHTAG}\"\n",
    "x= os.listdir(file_location)\n",
    "x.sort(key = lambda x: x.split('.')[0])\n",
    "x = [i for i in x if i.split('.')[-1] == 'json' and i != f'#{HASHTAG}.json']"
   ]
  },
  {
   "cell_type": "code",
   "execution_count": 4,
   "id": "4b0b2e75",
   "metadata": {},
   "outputs": [],
   "source": [
    "# Initilizing the dataframe with the features required.\n",
    "df = pd.DataFrame(columns = ['time','captions','comment','likes','owner'])\n",
    "\"\"\"\n",
    "time - time when the post was posted\n",
    "captions - it contain the captions with all the hashtag used for this post.\n",
    "comment - count of comment for the respective post.\n",
    "likes - count of the likes for the respective post.\n",
    "owner - owner id of the post\n",
    "\"\"\"\n",
    "for i in x:\n",
    "    f = open(f\"{file_location}/{i}\")\n",
    "    data = json.load(f)\n",
    "    d = {}\n",
    "    try:\n",
    "        d['time'] = i.split('.')[0]\n",
    "        d['captions'] = data['node']['edge_media_to_caption']['edges'][0]['node']['text'] if len(data['node']['edge_media_to_caption']['edges']) > 0 else 'NA'\n",
    "        d['comment'] = data['node']['edge_media_to_comment']['count']\n",
    "        d['likes'] =data['node']['edge_media_preview_like']['count']\n",
    "        d['owner'] = data['node']['owner']['id']\n",
    "        df = df.append(d,ignore_index=True)\n",
    "        f.close()\n",
    "    except Exception as e:\n",
    "        print(f\"Issue with file - {i} --- {e}\")\n",
    "    "
   ]
  },
  {
   "cell_type": "code",
   "execution_count": 5,
   "id": "c7b4988d",
   "metadata": {},
   "outputs": [
    {
     "data": {
      "text/html": [
       "<div>\n",
       "<style scoped>\n",
       "    .dataframe tbody tr th:only-of-type {\n",
       "        vertical-align: middle;\n",
       "    }\n",
       "\n",
       "    .dataframe tbody tr th {\n",
       "        vertical-align: top;\n",
       "    }\n",
       "\n",
       "    .dataframe thead th {\n",
       "        text-align: right;\n",
       "    }\n",
       "</style>\n",
       "<table border=\"1\" class=\"dataframe\">\n",
       "  <thead>\n",
       "    <tr style=\"text-align: right;\">\n",
       "      <th></th>\n",
       "      <th>time</th>\n",
       "      <th>captions</th>\n",
       "      <th>comment</th>\n",
       "      <th>likes</th>\n",
       "      <th>owner</th>\n",
       "    </tr>\n",
       "  </thead>\n",
       "  <tbody>\n",
       "    <tr>\n",
       "      <th>0</th>\n",
       "      <td>2022-05-30_02-49-37_UTC</td>\n",
       "      <td>Who's that chubby mama on the left ? \\n\\n🤩 Cel...</td>\n",
       "      <td>4</td>\n",
       "      <td>3</td>\n",
       "      <td>51237930214</td>\n",
       "    </tr>\n",
       "    <tr>\n",
       "      <th>1</th>\n",
       "      <td>2022-05-30_02-49-45_UTC</td>\n",
       "      <td>How I'm Lose belly fat in just 1 week..🔥😱 \\n\\n...</td>\n",
       "      <td>2</td>\n",
       "      <td>3</td>\n",
       "      <td>51237930214</td>\n",
       "    </tr>\n",
       "    <tr>\n",
       "      <th>2</th>\n",
       "      <td>2022-05-30_02-50-00_UTC</td>\n",
       "      <td>Msg me on my Whatsapp no 8401818480\\n.\\n.#weig...</td>\n",
       "      <td>2</td>\n",
       "      <td>3</td>\n",
       "      <td>48628056378</td>\n",
       "    </tr>\n",
       "    <tr>\n",
       "      <th>3</th>\n",
       "      <td>2022-05-30_02-50-10_UTC</td>\n",
       "      <td>Haha true❓\\n.\\n🤩 Want to lose 5-10 lbs in the ...</td>\n",
       "      <td>1</td>\n",
       "      <td>719</td>\n",
       "      <td>8542753882</td>\n",
       "    </tr>\n",
       "    <tr>\n",
       "      <th>4</th>\n",
       "      <td>2022-05-30_02-50-24_UTC</td>\n",
       "      <td>Big big congratulations Kumud Mam for reducing...</td>\n",
       "      <td>0</td>\n",
       "      <td>3</td>\n",
       "      <td>48492380445</td>\n",
       "    </tr>\n",
       "  </tbody>\n",
       "</table>\n",
       "</div>"
      ],
      "text/plain": [
       "                      time                                           captions  \\\n",
       "0  2022-05-30_02-49-37_UTC  Who's that chubby mama on the left ? \\n\\n🤩 Cel...   \n",
       "1  2022-05-30_02-49-45_UTC  How I'm Lose belly fat in just 1 week..🔥😱 \\n\\n...   \n",
       "2  2022-05-30_02-50-00_UTC  Msg me on my Whatsapp no 8401818480\\n.\\n.#weig...   \n",
       "3  2022-05-30_02-50-10_UTC  Haha true❓\\n.\\n🤩 Want to lose 5-10 lbs in the ...   \n",
       "4  2022-05-30_02-50-24_UTC  Big big congratulations Kumud Mam for reducing...   \n",
       "\n",
       "  comment likes        owner  \n",
       "0       4     3  51237930214  \n",
       "1       2     3  51237930214  \n",
       "2       2     3  48628056378  \n",
       "3       1   719   8542753882  \n",
       "4       0     3  48492380445  "
      ]
     },
     "execution_count": 5,
     "metadata": {},
     "output_type": "execute_result"
    }
   ],
   "source": [
    "df.head()"
   ]
  },
  {
   "cell_type": "code",
   "execution_count": 6,
   "id": "deb963dd",
   "metadata": {},
   "outputs": [],
   "source": [
    "# save the created dataframe to csv for furhter processsing\n",
    "df.to_csv(\"keto.csv\")"
   ]
  }
 ],
 "metadata": {
  "kernelspec": {
   "display_name": "Python 3 (ipykernel)",
   "language": "python",
   "name": "python3"
  },
  "language_info": {
   "codemirror_mode": {
    "name": "ipython",
    "version": 3
   },
   "file_extension": ".py",
   "mimetype": "text/x-python",
   "name": "python",
   "nbconvert_exporter": "python",
   "pygments_lexer": "ipython3",
   "version": "3.9.5"
  }
 },
 "nbformat": 4,
 "nbformat_minor": 5
}
